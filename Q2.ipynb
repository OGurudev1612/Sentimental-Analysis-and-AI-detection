{
 "cells": [
  {
   "cell_type": "markdown",
   "id": "a02b05cb",
   "metadata": {},
   "source": [
    "### Q2."
   ]
  },
  {
   "cell_type": "code",
   "execution_count": 81,
   "id": "42e04c59",
   "metadata": {},
   "outputs": [],
   "source": [
    "import pandas as pd"
   ]
  },
  {
   "cell_type": "code",
   "execution_count": 82,
   "id": "dbf49898",
   "metadata": {},
   "outputs": [],
   "source": [
    "df = pd.read_csv('Assignment1_Q2_Data(1).csv')"
   ]
  },
  {
   "cell_type": "code",
   "execution_count": 83,
   "id": "3c89512d",
   "metadata": {
    "scrolled": true
   },
   "outputs": [
    {
     "data": {
      "text/html": [
       "<div>\n",
       "<style scoped>\n",
       "    .dataframe tbody tr th:only-of-type {\n",
       "        vertical-align: middle;\n",
       "    }\n",
       "\n",
       "    .dataframe tbody tr th {\n",
       "        vertical-align: top;\n",
       "    }\n",
       "\n",
       "    .dataframe thead th {\n",
       "        text-align: right;\n",
       "    }\n",
       "</style>\n",
       "<table border=\"1\" class=\"dataframe\">\n",
       "  <thead>\n",
       "    <tr style=\"text-align: right;\">\n",
       "      <th></th>\n",
       "      <th>recid</th>\n",
       "      <th>mm</th>\n",
       "      <th>dd</th>\n",
       "      <th>yy</th>\n",
       "      <th>firstname</th>\n",
       "      <th>surname</th>\n",
       "      <th>sex</th>\n",
       "      <th>age</th>\n",
       "      <th>seek_surname</th>\n",
       "      <th>seek_first</th>\n",
       "    </tr>\n",
       "  </thead>\n",
       "  <tbody>\n",
       "    <tr>\n",
       "      <th>0</th>\n",
       "      <td>38575</td>\n",
       "      <td>4</td>\n",
       "      <td>25</td>\n",
       "      <td>68</td>\n",
       "      <td>Martin Joesph</td>\n",
       "      <td>Glynn</td>\n",
       "      <td>m</td>\n",
       "      <td>NaN</td>\n",
       "      <td>Glynn</td>\n",
       "      <td>Daniel C.</td>\n",
       "    </tr>\n",
       "    <tr>\n",
       "      <th>1</th>\n",
       "      <td>34452</td>\n",
       "      <td>12</td>\n",
       "      <td>23</td>\n",
       "      <td>65</td>\n",
       "      <td>Eugene</td>\n",
       "      <td>Dunlay</td>\n",
       "      <td>m</td>\n",
       "      <td>NaN</td>\n",
       "      <td>Collins</td>\n",
       "      <td>John</td>\n",
       "    </tr>\n",
       "    <tr>\n",
       "      <th>2</th>\n",
       "      <td>34453</td>\n",
       "      <td>12</td>\n",
       "      <td>23</td>\n",
       "      <td>65</td>\n",
       "      <td>Maurice</td>\n",
       "      <td>Dunlay</td>\n",
       "      <td>m</td>\n",
       "      <td>NaN</td>\n",
       "      <td>Collins</td>\n",
       "      <td>John</td>\n",
       "    </tr>\n",
       "    <tr>\n",
       "      <th>3</th>\n",
       "      <td>34454</td>\n",
       "      <td>12</td>\n",
       "      <td>23</td>\n",
       "      <td>65</td>\n",
       "      <td>John</td>\n",
       "      <td>Dunlay</td>\n",
       "      <td>m</td>\n",
       "      <td>NaN</td>\n",
       "      <td>Collins</td>\n",
       "      <td>John</td>\n",
       "    </tr>\n",
       "    <tr>\n",
       "      <th>4</th>\n",
       "      <td>35259</td>\n",
       "      <td>5</td>\n",
       "      <td>26</td>\n",
       "      <td>66</td>\n",
       "      <td>William</td>\n",
       "      <td>Milwood</td>\n",
       "      <td>m</td>\n",
       "      <td>NaN</td>\n",
       "      <td>Milwood</td>\n",
       "      <td>Henry</td>\n",
       "    </tr>\n",
       "  </tbody>\n",
       "</table>\n",
       "</div>"
      ],
      "text/plain": [
       "   recid  mm  dd  yy      firstname  surname sex  age seek_surname  seek_first\n",
       "0  38575   4  25  68  Martin Joesph    Glynn   m  NaN        Glynn  Daniel C. \n",
       "1  34452  12  23  65         Eugene   Dunlay   m  NaN      Collins        John\n",
       "2  34453  12  23  65        Maurice   Dunlay   m  NaN      Collins        John\n",
       "3  34454  12  23  65           John   Dunlay   m  NaN      Collins        John\n",
       "4  35259   5  26  66        William  Milwood   m  NaN      Milwood       Henry"
      ]
     },
     "execution_count": 83,
     "metadata": {},
     "output_type": "execute_result"
    }
   ],
   "source": [
    "df.head()"
   ]
  },
  {
   "cell_type": "markdown",
   "id": "4b85df48",
   "metadata": {},
   "source": [
    "### 2.1)Write a python code to compute the number of unique last names of people listed in the dataset."
   ]
  },
  {
   "cell_type": "code",
   "execution_count": 84,
   "id": "2c7fb8f1",
   "metadata": {},
   "outputs": [
    {
     "data": {
      "text/plain": [
       "0"
      ]
     },
     "execution_count": 84,
     "metadata": {},
     "output_type": "execute_result"
    }
   ],
   "source": [
    "#Removing rows where surname is empty or null\n",
    "df_surname_cleaned = df[df.surname!=' ']\n",
    "len(df_surname_cleaned[df.surname == ' '])"
   ]
  },
  {
   "cell_type": "code",
   "execution_count": 85,
   "id": "03f1cc83",
   "metadata": {},
   "outputs": [
    {
     "data": {
      "text/plain": [
       "8271"
      ]
     },
     "execution_count": 85,
     "metadata": {},
     "output_type": "execute_result"
    }
   ],
   "source": [
    "#Number of unique last names of people listed in the dataset\n",
    "df_surname_cleaned.surname.nunique()"
   ]
  },
  {
   "cell_type": "markdown",
   "id": "25b3bbd2",
   "metadata": {},
   "source": [
    "### 2.2)Write a python code to compute the most common last names of people listed in the dataset."
   ]
  },
  {
   "cell_type": "code",
   "execution_count": 86,
   "id": "a0abc91f",
   "metadata": {},
   "outputs": [
    {
     "data": {
      "text/html": [
       "<div>\n",
       "<style scoped>\n",
       "    .dataframe tbody tr th:only-of-type {\n",
       "        vertical-align: middle;\n",
       "    }\n",
       "\n",
       "    .dataframe tbody tr th {\n",
       "        vertical-align: top;\n",
       "    }\n",
       "\n",
       "    .dataframe thead th {\n",
       "        text-align: right;\n",
       "    }\n",
       "</style>\n",
       "<table border=\"1\" class=\"dataframe\">\n",
       "  <thead>\n",
       "    <tr style=\"text-align: right;\">\n",
       "      <th></th>\n",
       "      <th>surname</th>\n",
       "      <th>count</th>\n",
       "    </tr>\n",
       "  </thead>\n",
       "  <tbody>\n",
       "    <tr>\n",
       "      <th>0</th>\n",
       "      <td>sullivan</td>\n",
       "      <td>572</td>\n",
       "    </tr>\n",
       "    <tr>\n",
       "      <th>1</th>\n",
       "      <td>murphy</td>\n",
       "      <td>529</td>\n",
       "    </tr>\n",
       "    <tr>\n",
       "      <th>2</th>\n",
       "      <td>ryan</td>\n",
       "      <td>383</td>\n",
       "    </tr>\n",
       "    <tr>\n",
       "      <th>3</th>\n",
       "      <td>kelly</td>\n",
       "      <td>378</td>\n",
       "    </tr>\n",
       "    <tr>\n",
       "      <th>4</th>\n",
       "      <td>walsh</td>\n",
       "      <td>305</td>\n",
       "    </tr>\n",
       "    <tr>\n",
       "      <th>5</th>\n",
       "      <td>o'brien</td>\n",
       "      <td>267</td>\n",
       "    </tr>\n",
       "    <tr>\n",
       "      <th>6</th>\n",
       "      <td>McCarthy</td>\n",
       "      <td>241</td>\n",
       "    </tr>\n",
       "    <tr>\n",
       "      <th>7</th>\n",
       "      <td>fitzgerald</td>\n",
       "      <td>201</td>\n",
       "    </tr>\n",
       "    <tr>\n",
       "      <th>8</th>\n",
       "      <td>lynch</td>\n",
       "      <td>184</td>\n",
       "    </tr>\n",
       "    <tr>\n",
       "      <th>9</th>\n",
       "      <td>moran</td>\n",
       "      <td>170</td>\n",
       "    </tr>\n",
       "    <tr>\n",
       "      <th>10</th>\n",
       "      <td>collins</td>\n",
       "      <td>162</td>\n",
       "    </tr>\n",
       "    <tr>\n",
       "      <th>11</th>\n",
       "      <td>Sullivan</td>\n",
       "      <td>160</td>\n",
       "    </tr>\n",
       "    <tr>\n",
       "      <th>12</th>\n",
       "      <td>McNamara</td>\n",
       "      <td>146</td>\n",
       "    </tr>\n",
       "    <tr>\n",
       "      <th>13</th>\n",
       "      <td>McGrath</td>\n",
       "      <td>144</td>\n",
       "    </tr>\n",
       "    <tr>\n",
       "      <th>14</th>\n",
       "      <td>barry</td>\n",
       "      <td>141</td>\n",
       "    </tr>\n",
       "  </tbody>\n",
       "</table>\n",
       "</div>"
      ],
      "text/plain": [
       "       surname  count\n",
       "0     sullivan    572\n",
       "1       murphy    529\n",
       "2         ryan    383\n",
       "3        kelly    378\n",
       "4        walsh    305\n",
       "5      o'brien    267\n",
       "6     McCarthy    241\n",
       "7   fitzgerald    201\n",
       "8        lynch    184\n",
       "9        moran    170\n",
       "10     collins    162\n",
       "11    Sullivan    160\n",
       "12    McNamara    146\n",
       "13     McGrath    144\n",
       "14       barry    141"
      ]
     },
     "execution_count": 86,
     "metadata": {},
     "output_type": "execute_result"
    }
   ],
   "source": [
    "df_common_names = df.groupby(['surname']).size().sort_values(ascending=False).reset_index()\n",
    "df_common_names.rename(columns={0:'count'},inplace=True)\n",
    "df_common_names.head(15)"
   ]
  },
  {
   "cell_type": "markdown",
   "id": "d3a68370",
   "metadata": {},
   "source": [
    "### 2.3)Write a python code to compute the youngest person in the dataset."
   ]
  },
  {
   "cell_type": "code",
   "execution_count": 87,
   "id": "8d6e1608",
   "metadata": {},
   "outputs": [
    {
     "data": {
      "text/plain": [
       "array([nan, '25', '56', '50', '36', '22', '33', '30', '26', '24', '61',\n",
       "       '23', '45', '40', '21', '32', '44', '46', '27', '34', '60', '28',\n",
       "       '37', '29', '16', '20', '35', '31', '17', '70', '19', '48', '18',\n",
       "       '38', '15', '54', '55', '41', '14', '12', '42', '13', '7', '11',\n",
       "       '8', '2', '9', '10', '66', '6', '49', '3', '43', '53', '4', '>7',\n",
       "       '1', '80', '57', '5', '59', '62', '58', '47', '51', '65', '52',\n",
       "       '39', '2?', '68', '69', '64', '72', '74'], dtype=object)"
      ]
     },
     "execution_count": 87,
     "metadata": {},
     "output_type": "execute_result"
    }
   ],
   "source": [
    "df.age.unique()"
   ]
  },
  {
   "cell_type": "code",
   "execution_count": 88,
   "id": "ff0c5c5f",
   "metadata": {
    "scrolled": true
   },
   "outputs": [],
   "source": [
    "#Handling unusual data\n",
    "df_age_cleaned = df[(df.age!='>7') & (df.age!='2?')].copy()"
   ]
  },
  {
   "cell_type": "code",
   "execution_count": 89,
   "id": "56bf5c61",
   "metadata": {},
   "outputs": [],
   "source": [
    "#Converting string to a numeric value\n",
    "df_age_cleaned['age'] = pd.to_numeric(df_age_cleaned['age'])"
   ]
  },
  {
   "cell_type": "code",
   "execution_count": 90,
   "id": "1918fc06",
   "metadata": {},
   "outputs": [
    {
     "data": {
      "text/html": [
       "<div>\n",
       "<style scoped>\n",
       "    .dataframe tbody tr th:only-of-type {\n",
       "        vertical-align: middle;\n",
       "    }\n",
       "\n",
       "    .dataframe tbody tr th {\n",
       "        vertical-align: top;\n",
       "    }\n",
       "\n",
       "    .dataframe thead th {\n",
       "        text-align: right;\n",
       "    }\n",
       "</style>\n",
       "<table border=\"1\" class=\"dataframe\">\n",
       "  <thead>\n",
       "    <tr style=\"text-align: right;\">\n",
       "      <th></th>\n",
       "      <th>recid</th>\n",
       "      <th>mm</th>\n",
       "      <th>dd</th>\n",
       "      <th>yy</th>\n",
       "      <th>firstname</th>\n",
       "      <th>surname</th>\n",
       "      <th>sex</th>\n",
       "      <th>age</th>\n",
       "      <th>seek_surname</th>\n",
       "      <th>seek_first</th>\n",
       "    </tr>\n",
       "  </thead>\n",
       "  <tbody>\n",
       "    <tr>\n",
       "      <th>12968</th>\n",
       "      <td>11538</td>\n",
       "      <td>12</td>\n",
       "      <td>3</td>\n",
       "      <td>53</td>\n",
       "      <td>john</td>\n",
       "      <td>lyons</td>\n",
       "      <td>m</td>\n",
       "      <td>1.0</td>\n",
       "      <td>monaghan</td>\n",
       "      <td>eliza</td>\n",
       "    </tr>\n",
       "    <tr>\n",
       "      <th>14644</th>\n",
       "      <td>13276</td>\n",
       "      <td>7</td>\n",
       "      <td>1</td>\n",
       "      <td>54</td>\n",
       "      <td>henry</td>\n",
       "      <td>keer</td>\n",
       "      <td>m</td>\n",
       "      <td>1.0</td>\n",
       "      <td>keer</td>\n",
       "      <td>francis</td>\n",
       "    </tr>\n",
       "  </tbody>\n",
       "</table>\n",
       "</div>"
      ],
      "text/plain": [
       "       recid  mm  dd  yy firstname surname sex  age seek_surname seek_first\n",
       "12968  11538  12   3  53      john   lyons   m  1.0     monaghan      eliza\n",
       "14644  13276   7   1  54     henry    keer   m  1.0         keer    francis"
      ]
     },
     "execution_count": 90,
     "metadata": {},
     "output_type": "execute_result"
    }
   ],
   "source": [
    "#Young people in the dataset\n",
    "df_age_cleaned[df_age_cleaned.age == df_age_cleaned.age.min()]"
   ]
  },
  {
   "cell_type": "markdown",
   "id": "ddbe7042",
   "metadata": {},
   "source": [
    "### 2.4)Write a Python code to the number of entries where the person seeking information has the same surname as the person being sought."
   ]
  },
  {
   "cell_type": "code",
   "execution_count": 91,
   "id": "3801793e",
   "metadata": {},
   "outputs": [
    {
     "data": {
      "text/plain": [
       "26190"
      ]
     },
     "execution_count": 91,
     "metadata": {},
     "output_type": "execute_result"
    }
   ],
   "source": [
    "#Filtering data with same surnames\n",
    "df_same_surname = df[df.seek_surname == df.surname].copy()\n",
    "len(df_same_surname)"
   ]
  },
  {
   "cell_type": "code",
   "execution_count": null,
   "id": "d94281e8",
   "metadata": {},
   "outputs": [],
   "source": []
  }
 ],
 "metadata": {
  "kernelspec": {
   "display_name": "Python 3 (ipykernel)",
   "language": "python",
   "name": "python3"
  },
  "language_info": {
   "codemirror_mode": {
    "name": "ipython",
    "version": 3
   },
   "file_extension": ".py",
   "mimetype": "text/x-python",
   "name": "python",
   "nbconvert_exporter": "python",
   "pygments_lexer": "ipython3",
   "version": "3.10.7"
  }
 },
 "nbformat": 4,
 "nbformat_minor": 5
}
