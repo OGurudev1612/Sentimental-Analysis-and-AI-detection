{
 "cells": [
  {
   "cell_type": "markdown",
   "id": "dcd2f4ca",
   "metadata": {},
   "source": [
    "### Q1.Write a python program that will calculate a student’s term grade of CIS600 Principles of Social Media and Data Mining."
   ]
  },
  {
   "cell_type": "code",
   "execution_count": 3,
   "id": "baa85fe4",
   "metadata": {},
   "outputs": [
    {
     "data": {
      "text/plain": [
       "'Gurudev : 75.0'"
      ]
     },
     "execution_count": 3,
     "metadata": {},
     "output_type": "execute_result"
    }
   ],
   "source": [
    "#Function takes name of student and his marks in assignment1,assignment2,assignment3,midterm and project \n",
    "#Returns the total percentage of student\n",
    "#Grade can be alloted based on the division of percentage intervals\n",
    "def grade(name,ass1,ass2,ass3,midterm,project):\n",
    "    #assigments max marks- 10\n",
    "    #midterm max marks -100\n",
    "    #project max marks - 100\n",
    "    total_percentage = 0\n",
    "    total_percentage = total_percentage + ass1 + ass2 + ass3 + (midterm*0.2) + (project*0.5)\n",
    "    return name+\" : \"+str(total_percentage)\n",
    "grade(\"Gurudev\",8,8,8,80,70)"
   ]
  },
  {
   "cell_type": "code",
   "execution_count": null,
   "id": "9dd6ec5b",
   "metadata": {},
   "outputs": [],
   "source": []
  }
 ],
 "metadata": {
  "kernelspec": {
   "display_name": "Python 3 (ipykernel)",
   "language": "python",
   "name": "python3"
  },
  "language_info": {
   "codemirror_mode": {
    "name": "ipython",
    "version": 3
   },
   "file_extension": ".py",
   "mimetype": "text/x-python",
   "name": "python",
   "nbconvert_exporter": "python",
   "pygments_lexer": "ipython3",
   "version": "3.10.7"
  }
 },
 "nbformat": 4,
 "nbformat_minor": 5
}
